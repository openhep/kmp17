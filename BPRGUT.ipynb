{
 "cells": [
  {
   "cell_type": "markdown",
   "metadata": {},
   "source": [
    "<center><b><font size=\"5\">GUT unification of BPR neutrino mass model</font></b></center>"
   ]
  },
  {
   "cell_type": "markdown",
   "metadata": {
    "heading_collapsed": true
   },
   "source": [
    "# Initialization"
   ]
  },
  {
   "cell_type": "code",
   "execution_count": null,
   "metadata": {
    "collapsed": true,
    "hidden": true
   },
   "outputs": [],
   "source": [
    "%matplotlib inline\n",
    "import matplotlib.pyplot as plt\n",
    "import numpy as np\n",
    "from scipy.integrate import odeint\n",
    "import math, itertools\n",
    "#from scipy import pi\n",
    "from sympy import Rational, sqrt, Symbol, S, init_printing, latex"
   ]
  },
  {
   "cell_type": "code",
   "execution_count": null,
   "metadata": {
    "hidden": true
   },
   "outputs": [],
   "source": [
    "from constants import *\n",
    "from group_theory import *\n",
    "from rge import *\n",
    "from GUTtesting import *"
   ]
  },
  {
   "cell_type": "code",
   "execution_count": null,
   "metadata": {
    "collapsed": true,
    "hidden": true
   },
   "outputs": [],
   "source": [
    "np.set_printoptions(precision=2)\n",
    "init_printing(use_latex='mathjax')"
   ]
  },
  {
   "cell_type": "markdown",
   "metadata": {},
   "source": [
    "# Checks of $\\beta$-function coefficients"
   ]
  },
  {
   "cell_type": "markdown",
   "metadata": {
    "heading_collapsed": true
   },
   "source": [
    "## SM RGE coeffs (1L and 2L)"
   ]
  },
  {
   "cell_type": "code",
   "execution_count": null,
   "metadata": {
    "hidden": true
   },
   "outputs": [],
   "source": [
    "# 1L SM RGE coeffs\n",
    "[rge1L(k).subs({ng:3, nh:1}) for k in [1,2,3]]"
   ]
  },
  {
   "cell_type": "code",
   "execution_count": null,
   "metadata": {
    "hidden": true
   },
   "outputs": [],
   "source": [
    "# 2L SM RGE coeffs\n",
    "[[rge2L(p, k).subs({ng: 3, nh:1}) for k in [1,2,3]] for p in [1,2,3]]"
   ]
  },
  {
   "cell_type": "markdown",
   "metadata": {
    "hidden": true
   },
   "source": [
    "The above agrees with e.g. Eq. (2.4) from [Hagedorn et al.](http://www.arXiv.org/abs/1605.03986)\n",
    "![Hagedorn (2.4)](img/hagedorn24.png)\n",
    "\n",
    "Note that this reference has $y=Y/2$."
   ]
  },
  {
   "cell_type": "code",
   "execution_count": null,
   "metadata": {
    "hidden": true
   },
   "outputs": [],
   "source": [
    "y = Symbol('y')\n",
    "irrep(1,1,2*y).D, irrep(1,1,2*y).C2(1), irrep(1,1,2*y).S2(1)"
   ]
  },
  {
   "cell_type": "code",
   "execution_count": null,
   "metadata": {
    "hidden": true
   },
   "outputs": [],
   "source": [
    "d = Symbol('d')\n",
    "irrep(1,d,2*y).C2(2), irrep(1,d,2*y).S2(2)"
   ]
  },
  {
   "cell_type": "markdown",
   "metadata": {
    "hidden": true
   },
   "source": [
    "which is also in agreement with Hagedorn et al App. A."
   ]
  },
  {
   "cell_type": "markdown",
   "metadata": {
    "heading_collapsed": true
   },
   "source": [
    "## BSM RGE coeffs (1L and 2L) for additional complex scalar"
   ]
  },
  {
   "cell_type": "markdown",
   "metadata": {
    "hidden": true
   },
   "source": [
    "Again comparing with Hagedorn, Table8, (1,2,y) and (8,3,y) REPs:"
   ]
  },
  {
   "cell_type": "code",
   "execution_count": null,
   "metadata": {
    "hidden": true
   },
   "outputs": [],
   "source": [
    "[rge1L(k, BSMscalars=[ComplexScalar(1,2,2*y)]).subs({ng:3, nh:1})-rge1L(k).subs({ng:3, nh:1}) for k in [1,2,3]]"
   ]
  },
  {
   "cell_type": "code",
   "execution_count": null,
   "metadata": {
    "hidden": true
   },
   "outputs": [],
   "source": [
    "[[rge2L(p, k, BSMscalars=[ComplexScalar(1,2,2*y)]).subs({ng: 3, nh:1})-rge2L(p, k).subs({ng: 3, nh:1}) for k in [1,2,3]] for p in [1,2,3]]"
   ]
  },
  {
   "cell_type": "markdown",
   "metadata": {
    "hidden": true
   },
   "source": [
    "This **agrees** with Hagedorn:\n",
    "![Hagedorn App](img/hagedorn12y.png)\n",
    "where one notes that my $b_{2,2}$ is obtained from two Hagedorn's rightmost matrices like this:"
   ]
  },
  {
   "cell_type": "code",
   "execution_count": null,
   "metadata": {
    "hidden": true
   },
   "outputs": [],
   "source": [
    "S(3)/2 + S(2)/3"
   ]
  },
  {
   "cell_type": "code",
   "execution_count": null,
   "metadata": {
    "hidden": true
   },
   "outputs": [],
   "source": [
    "[rge1L(k, BSMscalars=[ComplexScalar(8,3,2*y)]).subs({ng:3, nh:1})-SM1L[k-1] for k in [1,2,3]]"
   ]
  },
  {
   "cell_type": "code",
   "execution_count": null,
   "metadata": {
    "hidden": true
   },
   "outputs": [],
   "source": [
    "[[rge2L(p, k, BSMscalars=[ComplexScalar(8,3,2*y)]).subs({ng: 3, nh:1})-rge2L(p, k).subs({ng: 3, nh:1}) for k in [1,2,3]] for p in [1,2,3]]"
   ]
  },
  {
   "cell_type": "markdown",
   "metadata": {
    "hidden": true
   },
   "source": [
    "This is  again in **agreement** with Table 8 of Hagedorn et al.\n",
    "![Hagedorn tbl 8](img/hagedorn83y.png)\n",
    "where $b_{2,2}$ and $b_{3,3}$ are obtained like this:"
   ]
  },
  {
   "cell_type": "code",
   "execution_count": null,
   "metadata": {
    "hidden": true
   },
   "outputs": [],
   "source": [
    "128 + S(64)/3, 108 + 18"
   ]
  },
  {
   "cell_type": "markdown",
   "metadata": {
    "heading_collapsed": true
   },
   "source": [
    "## Filaviez Peres and Murgui Table1  (1L)"
   ]
  },
  {
   "cell_type": "code",
   "execution_count": null,
   "metadata": {
    "collapsed": true,
    "hidden": true
   },
   "outputs": [],
   "source": [
    "def Bij(BSMscalars=[], BSMfermions=[]):\n",
    "    \"\"\"One loop RGE coefficient differences Bij=bi-bj\"\"\"\n",
    "    b1, b2, b3 = [rge1LBSM(k, BSMscalars=BSMscalars, BSMfermions=BSMfermions) for k in [1,2,3]]\n",
    "    return b1-b2, b2-b3"
   ]
  },
  {
   "cell_type": "code",
   "execution_count": null,
   "metadata": {
    "collapsed": true,
    "hidden": true
   },
   "outputs": [],
   "source": [
    "def Bij(BSMscalars=[], BSMfermions=[]):\n",
    "    \"\"\"One loop RGE coefficient differences Bij=bi-bj\"\"\"\n",
    "    b1, b2, b3 = [rge1BSM(k, BSMscalars+BSMfermions) for k in [1,2,3]]\n",
    "    return b1-b2, b2-b3"
   ]
  },
  {
   "cell_type": "markdown",
   "metadata": {
    "hidden": true
   },
   "source": [
    "SU(5) irreps branched to SU(3)xSU(2)xU(1) with convention $Q=T_3 + Y/2$ so that hypercharge numbers in Slansky Table 30 are multiplied by $1/3$. "
   ]
  },
  {
   "cell_type": "code",
   "execution_count": null,
   "metadata": {
    "collapsed": true,
    "hidden": true
   },
   "outputs": [],
   "source": [
    "SU5_5H = [ComplexScalar(1,2,1), ComplexScalar(3,1,-Rational(2,3))]"
   ]
  },
  {
   "cell_type": "code",
   "execution_count": null,
   "metadata": {
    "hidden": true
   },
   "outputs": [],
   "source": [
    "[Bij(BSMscalars=[irrep]) for irrep in SU5_5H]"
   ]
  },
  {
   "cell_type": "code",
   "execution_count": null,
   "metadata": {
    "hidden": true
   },
   "outputs": [],
   "source": [
    "SU5_45H = [\n",
    "    ComplexScalar(8,2,1),\n",
    "    ComplexScalar(6,1,-Rational(2,3)),\n",
    "    ComplexScalar(3,3,-Rational(2,3)),\n",
    "    ComplexScalar(3,2,-Rational(7,3)),\n",
    "    ComplexScalar(3,1, -Rational(2,3)),\n",
    "    ComplexScalar(3,1,Rational(8,3)),\n",
    "    ComplexScalar(1,2,1)\n",
    "] \n",
    "[Bij(BSMscalars=[irrep]) for irrep in SU5_45H]"
   ]
  },
  {
   "cell_type": "code",
   "execution_count": null,
   "metadata": {
    "hidden": true
   },
   "outputs": [],
   "source": [
    "SU5_10H = [ComplexScalar(1,1,2), ComplexScalar(3,2, Rational(1,3)), ComplexScalar(3,1,-Rational(4,3))] \n",
    "[Bij(BSMscalars=[irrep]) for irrep in SU5_10H]"
   ]
  },
  {
   "cell_type": "markdown",
   "metadata": {
    "hidden": true
   },
   "source": [
    "Again, we have total agreement at 1L"
   ]
  },
  {
   "cell_type": "markdown",
   "metadata": {
    "heading_collapsed": true
   },
   "source": [
    "## MSSM RGE coeffs (1L and 2L)"
   ]
  },
  {
   "cell_type": "markdown",
   "metadata": {
    "hidden": true
   },
   "source": [
    "These are degrees of freedom beyond what is in (SM + second Higgs doublet)"
   ]
  },
  {
   "cell_type": "code",
   "execution_count": null,
   "metadata": {
    "collapsed": true,
    "hidden": true
   },
   "outputs": [],
   "source": [
    "# we count only left-handed particles\n",
    "# note that nh = 2 in MSSM\n",
    "MSSMscalars = [\n",
    "    ComplexScalar(1, 2, -1, ng),  # left slepton doublet\n",
    "    ComplexScalar(1, 1,  2, ng),  # anti-right slepton singlet\n",
    "    ComplexScalar(3, 2, Rational(1,3), ng),  # left squark doublet\n",
    "    ComplexScalar(3, 1, Rational(-4,3), ng), # anti-right sup squark singlet\n",
    "    ComplexScalar(3, 1, Rational(2,3), ng) # anti-right sdown squark singlet \n",
    "    ]\n",
    "MSSMfermions = [\n",
    "    Weyl(1, 2, 1, nh),     # Higgsino doublets\n",
    "    Weyl(8, 1, 0),         # gluinos\n",
    "    Weyl(1, 3, 0),         # winos\n",
    "    Weyl(1, 1, 0)          # bino\n",
    "    ]"
   ]
  },
  {
   "cell_type": "code",
   "execution_count": null,
   "metadata": {
    "hidden": true
   },
   "outputs": [],
   "source": [
    "b1, b2, b3 = [rge1L(N, BSMfermions=MSSMfermions, BSMscalars=MSSMscalars).subs({ng: 3, nh:2}) for N in [1,2,3]]; (b1, b2, b3)"
   ]
  },
  {
   "cell_type": "markdown",
   "metadata": {
    "hidden": true
   },
   "source": [
    "Taking into account $\\sqrt{5/3}$ U(1) normalization this agrees with e.g.  Martin and Vaughn, [hep-ph/9311340](http://www.arxiv.org/abs/hep-ph/9311340), below Eq. (4.4), and also gives famous MSSM 1L unification result for $B_{23}/B_{12}$ in good agreement with experimental 0.718:"
   ]
  },
  {
   "cell_type": "code",
   "execution_count": null,
   "metadata": {
    "hidden": true
   },
   "outputs": [],
   "source": [
    "(b2-b3)/(b1-b2), float((b2-b3)/(b1-b2))"
   ]
  },
  {
   "cell_type": "code",
   "execution_count": null,
   "metadata": {
    "hidden": true
   },
   "outputs": [],
   "source": [
    "[[rge2L(p, k, BSMfermions=MSSMfermions, BSMscalars=MSSMscalars).subs({ng: 3, nh:2}) for k in [1,2,3]] for p in [1,2,3]]"
   ]
  },
  {
   "cell_type": "markdown",
   "metadata": {
    "hidden": true
   },
   "source": [
    "This quite **disagrees** in all elements with Martin and Vaughn Eq. (4.5) !!\n",
    "![Martin Vaugn](img/martinvaughn.png)\n",
    "\n",
    "This is likely due to some forgotten 2L terms (Timon/Borut explained) which are, due to SUSY, also proportional to powers of gauge couplings - so I am not worrying about this any more."
   ]
  },
  {
   "cell_type": "markdown",
   "metadata": {
    "heading_collapsed": true
   },
   "source": [
    "## LaTeX tables  of $\\beta$-function coefficients for the paper"
   ]
  },
  {
   "cell_type": "markdown",
   "metadata": {
    "hidden": true
   },
   "source": [
    "This is the only section in this notebook where we print Y/2 for Y, conforming to definition of hypercharge used in the paper!"
   ]
  },
  {
   "cell_type": "code",
   "execution_count": null,
   "metadata": {
    "collapsed": true,
    "hidden": true
   },
   "outputs": [],
   "source": [
    "def pp(s):\n",
    "    \"\"\"pretty-printing of expressions by putting into LaTeX math mode\"\"\"\n",
    "    #return s\n",
    "    return '$'+str(s)+'$'\n",
    "\n",
    "def fmt(x):\n",
    "    \"\"\"Creating formatting string for fractions.\"\"\"\n",
    "    if x < 0:\n",
    "        return \"& ${} r_k$\"\n",
    "    elif x > 0:\n",
    "        return \"& $\\hphantom{{+}}{} r_k$\"\n",
    "    else:\n",
    "        return \"& ${}$\""
   ]
  },
  {
   "cell_type": "code",
   "execution_count": null,
   "metadata": {
    "hidden": true,
    "scrolled": true
   },
   "outputs": [],
   "source": [
    "BPR_reps = {\n",
    "    'h^+' : ComplexScalar(1,1,2),\n",
    "    '\\Delta' : RealScalar(1,3,0),\n",
    "    'E_{L,R}' : Weyl(1,2,-1) \n",
    "}\n",
    "\n",
    "print(r\"\\begin{tabular}{c c| c c}\")\n",
    "print(r\" \\multicolumn{2}{c|}{$k$} &  $\\Delta B_{23}$  & $\\Delta B_{12}$   \\\\ \\hline\")\n",
    "for f, rep in BPR_reps.items():\n",
    "    b1, b2, b3 = [rge1BSM(k, [rep]) for k in [1,2,3]]\n",
    "    Sk, Ck = Atest(rep)\n",
    "    fmts = r\"${}$ & $({},{},{})$ \" + fmt(b2-b3) + fmt(b1-b2) + r\" \\\\\"\n",
    "    print(fmts.format(f, rep.D3, rep.D2, S(rep.Y)/2, latex(b2-b3), latex(b1-b2)))\n",
    "print(r\"\\end{tabular}\")"
   ]
  },
  {
   "cell_type": "code",
   "execution_count": null,
   "metadata": {
    "collapsed": true,
    "hidden": true
   },
   "outputs": [],
   "source": [
    "five_reps = {                                                                           \n",
    "  '\\irrepsub{5}{H}': {                                                                 \n",
    " 'H' : ComplexScalar(1,2,1),                                                           \n",
    " 'S_1' : ComplexScalar(3,1,-Rational(2,3)),                                             \n",
    "    },                                                                                 \n",
    "# 10                                                                                   \n",
    "  '\\irrepsub{10}{S}': {                                                                 \n",
    " 'h \\equiv \\phi_3' : ComplexScalar(1,1,2),                                             \n",
    " '\\phi_2' : ComplexScalar(3,1,-Rational(4,3)),                                        \n",
    " '\\phi_1' : ComplexScalar(3,2,Rational(1,3))},                                        \n",
    "# 24                                                                                   \n",
    "  '\\irrepsub{24}{S}': {                                                                 \n",
    "    '\\chi_1 ' : RealScalar(1,1,0),                                                     \n",
    "    '\\Delta \\equiv \\chi_2 ' : RealScalar(1,3,0),                                    \n",
    "    '\\chi_3 ' : RealScalar(8,1,0),                                                  \n",
    "    '\\chi_4 ' : RealScalar(3,2,-Rational(5,3)),                                         \n",
    "    '\\chi_5 ' : RealScalar(3,2,Rational(5,3))},                                         \n",
    "# F                                                                                   \n",
    "  '\\irrepbarsub{5}{F}': {                                                             \n",
    " 'E_{L,R} ' : Weyl(1,2,-1),                                                             \n",
    "   '' : Weyl(3,1,Rational(2,3))}\n",
    "}"
   ]
  },
  {
   "cell_type": "code",
   "execution_count": null,
   "metadata": {
    "collapsed": true,
    "hidden": true
   },
   "outputs": [],
   "source": [
    "fortyfive_reps = {     \n",
    "# 45                                                                                   \n",
    "  '\\irrepsub{45}{H}': {                                                                 \n",
    "    '\\Sigma_1' : ComplexScalar(1,2,1),\n",
    "    'S_1\\equiv\\Sigma_2' : ComplexScalar(3,1,-Rational(2,3)),\n",
    "    'S_3\\equiv\\Sigma_3' : ComplexScalar(3,3,-Rational(2,3)),\n",
    "    r'\\tilde{S}_1\\equiv\\Sigma_4' : ComplexScalar(3,1,Rational(8,3)),\n",
    "    '\\Sigma_5' : ComplexScalar(3,2,-Rational(7,3)),\n",
    "    '\\Sigma_6' : ComplexScalar(6,1,-Rational(2,3)),\n",
    "    '\\Sigma_7' : ComplexScalar(8,2,1) }\n",
    "}"
   ]
  },
  {
   "cell_type": "code",
   "execution_count": null,
   "metadata": {
    "collapsed": true,
    "hidden": true
   },
   "outputs": [],
   "source": [
    "seventy_reps = {     \n",
    "# 70  \n",
    "'\\irrepsub{70}{H}': {  \n",
    "    '\\Omega_1' : ComplexScalar(1,2,1),\n",
    "    'S_1 \\equiv \\Omega_2' : ComplexScalar(3,1,-Rational(2,3)),\n",
    "    'S_3 \\equiv \\Omega_3' : ComplexScalar(3,3,-Rational(2,3)),\n",
    "    '\\Omega_4' : ComplexScalar(3,3,Rational(8,3)),\n",
    "    '\\Omega_5' : ComplexScalar(6,2,-Rational(7,3)),\n",
    "    '\\Omega_6' : ComplexScalar(15,1,-Rational(2,3)),\n",
    "    '\\Omega_7' : ComplexScalar(8,2,1),\n",
    "    '\\Omega_8' : ComplexScalar(1,4,1)\n",
    " }\n",
    "}"
   ]
  },
  {
   "cell_type": "code",
   "execution_count": null,
   "metadata": {
    "hidden": true
   },
   "outputs": [],
   "source": [
    "print(r\"\\begin{tabular}{c c c| c c}\")\n",
    "print(r\" \\multicolumn{3}{c|}{$k$}  &  $\\Delta B_{23}$  & $\\Delta B_{12}$ \\\\\")\n",
    "for name, reps in five_reps.items():\n",
    "    first = '\\multirow{{ {} }}{{*}}{{ {} }}'.format(len(reps), name)\n",
    "    print(r'\\hline')\n",
    "    for f, rep in reps.items():\n",
    "        b1, b2, b3 = [rge1BSM(k, [rep]) for k in [1,2,3]]\n",
    "        Sk, Ck = Atest(rep)\n",
    "        fmts = r\"${}$ & $({},{},{})$ & {}\" + fmt(b2-b3) + fmt(b1-b2) + r\" \\\\\"\n",
    "        print(fmts.format(f, rep.D3, rep.D2, S(rep.Y)/2, first, latex(b2-b3), latex(b1-b2)))\n",
    "        if first:\n",
    "            first = ''\n",
    "print(r\"\\end{tabular}\")"
   ]
  },
  {
   "cell_type": "code",
   "execution_count": null,
   "metadata": {
    "hidden": true
   },
   "outputs": [],
   "source": [
    "print(r\"\\begin{tabular}{c c c| c c}\")\n",
    "print(r\" \\multicolumn{3}{c|}{$k$}  &  $\\Delta B_{23}$  & $\\Delta B_{12}$ \\\\\")\n",
    "for name, reps in fortyfive_reps.items():\n",
    "    first = '\\multirow{{ {} }}{{*}}{{ {} }}'.format(len(reps), name)\n",
    "    print(r'\\hline')\n",
    "    for f, rep in reps.items():\n",
    "        b1, b2, b3 = [rge1BSM(k, [rep]) for k in [1,2,3]]\n",
    "        Sk, Ck = Atest(rep)\n",
    "        fmts = r\"${}$ & $({},{},{})$ & {}\" + fmt(b2-b3) + fmt(b1-b2) + r\" \\\\\"\n",
    "        print(fmts.format(f, rep.D3, rep.D2, S(rep.Y)/2, first, latex(b2-b3), latex(b1-b2)))\n",
    "        if first:\n",
    "            first = ''\n",
    "print(r\"\\end{tabular}\")"
   ]
  },
  {
   "cell_type": "code",
   "execution_count": null,
   "metadata": {
    "hidden": true
   },
   "outputs": [],
   "source": [
    "print(r\"\\begin{tabular}{c c c| c c}\")\n",
    "print(r\" \\multicolumn{3}{c|}{$k$}  &  $\\Delta B_{23}$  & $\\Delta B_{12}$ \\\\\")\n",
    "for name, reps in seventy_reps.items():\n",
    "    first = '\\multirow{{ {} }}{{*}}{{ {} }}'.format(len(reps), name)\n",
    "    print(r'\\hline')\n",
    "    for f, rep in reps.items():\n",
    "        b1, b2, b3 = [rge1BSM(k, [rep]) for k in [1,2,3]]\n",
    "        Sk, Ck = Atest(rep)\n",
    "        fmts = r\"${}$ & $({},{},{})$ & {}\" + fmt(b2-b3) + fmt(b1-b2) + r\" \\\\\"\n",
    "        print(fmts.format(f, rep.D3, rep.D2, S(rep.Y)/2, first, latex(b2-b3), latex(b1-b2)))\n",
    "        if first:\n",
    "            first = ''\n",
    "print(r\"\\end{tabular}\")"
   ]
  },
  {
   "cell_type": "markdown",
   "metadata": {},
   "source": [
    "# Gauge coupling crossing test "
   ]
  },
  {
   "cell_type": "markdown",
   "metadata": {
    "heading_collapsed": true
   },
   "source": [
    "## Overview"
   ]
  },
  {
   "cell_type": "markdown",
   "metadata": {
    "hidden": true
   },
   "source": [
    "Instead of standard B-test, we can use its variant which involves aditive quantity\n",
    "\n",
    "$$ A \\equiv B_{23}^{\\rm BSM} - 0.718 B_{12}^{\\rm BSM} = 1.384 $$\n",
    "\n",
    "and it is convenient to test it together with testing that GUT scale is between, say, $5\\times10^{15}$ GeV and $1\\times10^{17}$ GeV, which can be translated into requirement\n",
    "\n",
    "$$ -1.9 < B_{12}^{\\rm BSM} < -1.4 $$"
   ]
  },
  {
   "cell_type": "code",
   "execution_count": null,
   "metadata": {
    "hidden": true
   },
   "outputs": [],
   "source": [
    "b1, b2, b3 = SM1L\n",
    "(b1-b2)*0.718 - (b2-b3) # RHS of A-test"
   ]
  },
  {
   "cell_type": "code",
   "execution_count": null,
   "metadata": {
    "hidden": true
   },
   "outputs": [],
   "source": [
    "Bgut = 184.8\n",
    "b1, b2, b3 = SM1L\n",
    "Bgut/math.log(5e15/mZ)-(b1-b2), Bgut/math.log(1e16/mZ)-(b1-b2), Bgut/math.log(1e17/mZ)-(b1-b2)"
   ]
  },
  {
   "cell_type": "markdown",
   "metadata": {
    "hidden": true
   },
   "source": [
    "This is implemented in function <code>Atest</code> which returns $B_{12}$, as well as quantity $A$ above."
   ]
  },
  {
   "cell_type": "markdown",
   "metadata": {
    "hidden": true
   },
   "source": [
    "Now we check that complete SU(5) irreps don't contribute to running"
   ]
  },
  {
   "cell_type": "code",
   "execution_count": null,
   "metadata": {
    "hidden": true
   },
   "outputs": [],
   "source": [
    "for SU5rep in [SU5_5, SU5_10, SU5_15, SU5_24, SU5_35, SU5_40, SU5_45, SU5_50, SU5_70]:\n",
    "    print(Atest([ComplexScalar(*v) for v in SU5rep.values()]))"
   ]
  },
  {
   "cell_type": "markdown",
   "metadata": {
    "hidden": true
   },
   "source": [
    "Now the contributions of particular SM group irreps:"
   ]
  },
  {
   "cell_type": "code",
   "execution_count": null,
   "metadata": {
    "hidden": true
   },
   "outputs": [],
   "source": [
    "print('           irrep     delB_12    delA')#.format(F, dim))\n",
    "print(45*'=')\n",
    "for SU5rep in [SU5_5, SU5_10, SU5_15, SU5_24, SU5_35, SU5_40, SU5_45, SU5_50, SU5_70]:\n",
    "    dim = 0\n",
    "    for f, nrep in SU5rep.items():\n",
    "        dim += nrep[0]*nrep[1]\n",
    "    print('----------- [{:<2d}] ---------------------'.format(dim))\n",
    "    for f, nrep in SU5rep.items():\n",
    "        rep = ComplexScalar(*nrep)  # note that SU5_24 can be real\n",
    "        print(\"{:>6} ({},{},{:^6}) : {: .3f}  {: .3f}\".format(f, rep.D3, rep.D2, str(rep.Y), *Atest(rep)))"
   ]
  },
  {
   "cell_type": "markdown",
   "metadata": {
    "heading_collapsed": true
   },
   "source": [
    "## Some A-tests"
   ]
  },
  {
   "cell_type": "markdown",
   "metadata": {
    "heading_collapsed": true,
    "hidden": true
   },
   "source": [
    "### MSSM"
   ]
  },
  {
   "cell_type": "code",
   "execution_count": null,
   "metadata": {
    "collapsed": true,
    "hidden": true
   },
   "outputs": [],
   "source": [
    "# MSSM\n",
    "# These are all BSM multiplets, including the second Higgs doublet\n",
    "MSSMscalarsE = [\n",
    "    ComplexScalar(1, 2, -1, 3),  # left slepton doublet\n",
    "    ComplexScalar(1, 1,  2, 3),  # anti-right slepton singlet\n",
    "    ComplexScalar(3, 2, Rational(1,3), 3),  # left squark doublet\n",
    "    ComplexScalar(3, 1, Rational(-4,3), 3), # anti-right sup squark singlet\n",
    "    ComplexScalar(3, 1, Rational(2,3), 3), # anti-right sdown squark singlet \n",
    "    ComplexScalar(1, 2, -1),  # second Higgs doublet\n",
    "    ]\n",
    "MSSMhiggsinosE = [(Weyl(1, 2, 1, 2))] # Higgsino doublets\n",
    "MSSMgauginosE = [ \n",
    "    Weyl(8, 1, 0),         # gluinos\n",
    "    Weyl(1, 3, 0),         # winos\n",
    "    Weyl(1, 1, 0)          # bino\n",
    "    ]"
   ]
  },
  {
   "cell_type": "code",
   "execution_count": null,
   "metadata": {
    "hidden": true
   },
   "outputs": [],
   "source": [
    "# Reproducing the good unification property of MSSM\n",
    "Atest(MSSMscalarsE+MSSMhiggsinosE+MSSMgauginosE)"
   ]
  },
  {
   "cell_type": "code",
   "execution_count": null,
   "metadata": {
    "hidden": true
   },
   "outputs": [],
   "source": [
    "Atest(MSSMscalarsE)"
   ]
  },
  {
   "cell_type": "code",
   "execution_count": null,
   "metadata": {
    "hidden": true
   },
   "outputs": [],
   "source": [
    "# Higgsino contribution is dominant in the MSSM's success\n",
    "Atest(MSSMhiggsinosE)"
   ]
  },
  {
   "cell_type": "code",
   "execution_count": null,
   "metadata": {
    "hidden": true
   },
   "outputs": [],
   "source": [
    "Atest(MSSMgauginosE)"
   ]
  },
  {
   "cell_type": "markdown",
   "metadata": {
    "heading_collapsed": true,
    "hidden": true
   },
   "source": [
    "### BPR"
   ]
  },
  {
   "cell_type": "code",
   "execution_count": null,
   "metadata": {
    "hidden": true
   },
   "outputs": [],
   "source": [
    "for rep in BPR:\n",
    "    print (Atest(rep))"
   ]
  },
  {
   "cell_type": "code",
   "execution_count": null,
   "metadata": {
    "hidden": true
   },
   "outputs": [],
   "source": [
    "Atest(BPR)"
   ]
  },
  {
   "cell_type": "markdown",
   "metadata": {
    "hidden": true
   },
   "source": [
    "So to fix BPR model we need additional contributions:\n",
    "$$\\Delta B_{12} < -0.6\\;, \\quad \\Delta A = -1.62$$"
   ]
  },
  {
   "cell_type": "markdown",
   "metadata": {
    "hidden": true
   },
   "source": [
    "Attempts to fix BPR"
   ]
  },
  {
   "cell_type": "code",
   "execution_count": null,
   "metadata": {
    "hidden": true
   },
   "outputs": [],
   "source": [
    "Atest([RealScalar(8,1,0,2), ComplexScalar(8,2,1, 2)])"
   ]
  },
  {
   "cell_type": "markdown",
   "metadata": {
    "hidden": true
   },
   "source": [
    "So, adding these three scalar irreps to BPR, leads to unification. (GUT scale is 1.6e17 GeV, and B-test is 0.728.) Exactly the same running is provided by the following particles:"
   ]
  },
  {
   "cell_type": "code",
   "execution_count": null,
   "metadata": {
    "hidden": true
   },
   "outputs": [],
   "source": [
    "Atest([ComplexScalar(1,1,-4), RealScalar(8,1, 0, 2), ComplexScalar(6,2,Rational(1,3), 2)])"
   ]
  },
  {
   "cell_type": "markdown",
   "metadata": {},
   "source": [
    "# Searching for GUT scenarios"
   ]
  },
  {
   "cell_type": "markdown",
   "metadata": {
    "heading_collapsed": true
   },
   "source": [
    "## Some tests of search algorithm"
   ]
  },
  {
   "cell_type": "markdown",
   "metadata": {
    "hidden": true
   },
   "source": [
    "Testing with **one** free state:"
   ]
  },
  {
   "cell_type": "code",
   "execution_count": null,
   "metadata": {
    "hidden": true
   },
   "outputs": [],
   "source": [
    "ABsolve([ComplexScalar(6,1,-Rational(2,3))], \n",
    "        fixreps=BPR+[ComplexScalar(8,2,1), RealScalar(8,1,0)])"
   ]
  },
  {
   "cell_type": "code",
   "execution_count": null,
   "metadata": {
    "hidden": true
   },
   "outputs": [],
   "source": [
    "NBsearch([ComplexScalar(6,1,-Rational(2,3))], fixreps=BPR+[ComplexScalar(8,2,1), RealScalar(8,1,0)])"
   ]
  },
  {
   "cell_type": "markdown",
   "metadata": {
    "hidden": true
   },
   "source": [
    "Testing with **two** free states:"
   ]
  },
  {
   "cell_type": "code",
   "execution_count": null,
   "metadata": {
    "hidden": true
   },
   "outputs": [],
   "source": [
    "ABsolve([ComplexScalar(6,1,-Rational(2,3)), ComplexScalar(8,2,1)], \n",
    "        fixreps=BPR+[RealScalar(8,1,0)])"
   ]
  },
  {
   "cell_type": "code",
   "execution_count": null,
   "metadata": {
    "hidden": true
   },
   "outputs": [],
   "source": [
    "NBsearch([ComplexScalar(6,1,-Rational(2,3)), ComplexScalar(8,2,1)], fixreps=BPR+[RealScalar(8,1,0)])"
   ]
  },
  {
   "cell_type": "markdown",
   "metadata": {
    "hidden": true
   },
   "source": [
    "Testing with **three** free states:"
   ]
  },
  {
   "cell_type": "code",
   "execution_count": null,
   "metadata": {
    "hidden": true
   },
   "outputs": [],
   "source": [
    "ABsearch([ComplexScalar(6,1,-Rational(2,3)), ComplexScalar(8,2,1), RealScalar(8,1,0)], fixreps=BPR, \n",
    "         verbose=False)"
   ]
  },
  {
   "cell_type": "code",
   "execution_count": null,
   "metadata": {
    "hidden": true
   },
   "outputs": [],
   "source": [
    "NBsearch([ComplexScalar(6,1,-Rational(2,3)), ComplexScalar(8,2,1), RealScalar(8,1,0)], fixreps=BPR, \n",
    "         verbose=False)"
   ]
  },
  {
   "cell_type": "markdown",
   "metadata": {
    "hidden": true
   },
   "source": [
    "So we see that numerical scipy SLSQ algo finds a solution with higher GUT scale."
   ]
  },
  {
   "cell_type": "markdown",
   "metadata": {
    "heading_collapsed": true
   },
   "source": [
    "## Minimal GUT, H in 5"
   ]
  },
  {
   "cell_type": "code",
   "execution_count": null,
   "metadata": {
    "collapsed": true,
    "hidden": true
   },
   "outputs": [],
   "source": [
    "# States from already needed SU(5) reps that can possibly be low\n",
    "mnm = [# From vectorlike fermion 5\n",
    "       Weyl(1,2,-1, 6), # E_L,R\n",
    "       Weyl(3,1,-Rational(2,3), 6),\n",
    "       # from 10\n",
    "       ComplexScalar(1,1,2),   # h\n",
    "       ComplexScalar(3,1,-Rational(4,3)),\n",
    "       ComplexScalar(3,2,Rational(1,3)),\n",
    "       # from 24\n",
    "       RealScalar(1,3,0),   # Delta\n",
    "       RealScalar(8,1,0)]"
   ]
  },
  {
   "cell_type": "code",
   "execution_count": null,
   "metadata": {
    "hidden": true
   },
   "outputs": [],
   "source": [
    "# Try all possible combinations of BSM particles\n",
    "for npart in range(1, len(mnm)):\n",
    "    for reps in itertools.combinations(mnm, npart):\n",
    "        NBsearch(reps, fixreps=[])"
   ]
  },
  {
   "cell_type": "markdown",
   "metadata": {
    "hidden": true
   },
   "source": [
    "No solution is found, in agreement with Timon's Mathematica analysis."
   ]
  },
  {
   "cell_type": "markdown",
   "metadata": {
    "heading_collapsed": true
   },
   "source": [
    "## BPR at LHC scale + allowed  states from 10, 24 and 45"
   ]
  },
  {
   "cell_type": "code",
   "execution_count": null,
   "metadata": {
    "collapsed": true,
    "hidden": true
   },
   "outputs": [],
   "source": [
    "# non-BPR states from already needed SU(5) reps that can possibly be low\n",
    "vbl = [# From vectorlike fermion 5\n",
    "       Weyl(3,1,-Rational(2,3), 6),\n",
    "       # from 10\n",
    "       ComplexScalar(3,1,-Rational(4,3)),\n",
    "       ComplexScalar(3,2,Rational(1,3)),\n",
    "       # from 24\n",
    "       RealScalar(8,1,0),\n",
    "       # from 45\n",
    "       ComplexScalar(1,2,1),\n",
    "       ComplexScalar(3,2,-Rational(7,3)),\n",
    "       ComplexScalar(6,1,-Rational(2,3)),\n",
    "       ComplexScalar(8,2,1)]"
   ]
  },
  {
   "cell_type": "markdown",
   "metadata": {
    "hidden": true
   },
   "source": [
    "No solutions with two or less additional reps:"
   ]
  },
  {
   "cell_type": "code",
   "execution_count": null,
   "metadata": {
    "collapsed": true,
    "hidden": true
   },
   "outputs": [],
   "source": [
    "for reps in itertools.combinations(vbl, 1):\n",
    "    NBsearch(reps, fixreps=BPR)"
   ]
  },
  {
   "cell_type": "code",
   "execution_count": null,
   "metadata": {
    "collapsed": true,
    "hidden": true
   },
   "outputs": [],
   "source": [
    "for reps in itertools.combinations(vbl, 2):\n",
    "    NBsearch(reps, fixreps=BPR)"
   ]
  },
  {
   "cell_type": "markdown",
   "metadata": {
    "hidden": true
   },
   "source": [
    "Solutions with **three** additional reps:"
   ]
  },
  {
   "cell_type": "code",
   "execution_count": null,
   "metadata": {
    "hidden": true
   },
   "outputs": [],
   "source": [
    "for reps in itertools.combinations(vbl, 3):\n",
    "    NBsearch(reps, fixreps=BPR)"
   ]
  },
  {
   "cell_type": "markdown",
   "metadata": {
    "hidden": true
   },
   "source": [
    "With **four** reps, we have solutions:"
   ]
  },
  {
   "cell_type": "code",
   "execution_count": null,
   "metadata": {
    "hidden": true
   },
   "outputs": [],
   "source": [
    "for reps in itertools.combinations(vbl, 4):\n",
    "    NBsearch(reps, fixreps=BPR)"
   ]
  },
  {
   "cell_type": "markdown",
   "metadata": {
    "hidden": true
   },
   "source": [
    "With five reps we get solutions:"
   ]
  },
  {
   "cell_type": "code",
   "execution_count": null,
   "metadata": {
    "hidden": true
   },
   "outputs": [],
   "source": [
    "for reps in itertools.combinations(vbl, 5):\n",
    "    NBsearch(reps, fixreps=BPR)"
   ]
  },
  {
   "cell_type": "markdown",
   "metadata": {
    "hidden": true
   },
   "source": [
    "6 or more states situations produce no new solutions:"
   ]
  },
  {
   "cell_type": "code",
   "execution_count": null,
   "metadata": {
    "collapsed": true,
    "hidden": true
   },
   "outputs": [],
   "source": [
    "for reps in itertools.combinations(vbl, 6):\n",
    "    NBsearch(reps, fixreps=BPR)"
   ]
  },
  {
   "cell_type": "code",
   "execution_count": null,
   "metadata": {
    "collapsed": true,
    "hidden": true
   },
   "outputs": [],
   "source": [
    "for reps in itertools.combinations(vbl, 7):\n",
    "    NBsearch(reps, fixreps=BPR)"
   ]
  },
  {
   "cell_type": "code",
   "execution_count": null,
   "metadata": {
    "collapsed": true,
    "hidden": true
   },
   "outputs": [],
   "source": [
    "for reps in itertools.combinations(vbl, 8):\n",
    "    NBsearch(reps, fixreps=BPR)"
   ]
  },
  {
   "cell_type": "markdown",
   "metadata": {
    "heading_collapsed": true
   },
   "source": [
    "## BPR at LHC scale + some  states from 10, 24 and 70 (15-dim rep excluded)"
   ]
  },
  {
   "cell_type": "code",
   "execution_count": null,
   "metadata": {
    "collapsed": true,
    "hidden": true
   },
   "outputs": [],
   "source": [
    "# States from already needed SU(5) reps that can possibly be low\n",
    "vbl70 = [\n",
    "       # From vectorlike fermion 5\n",
    "       Weyl(3,1,-Rational(2,3), 6),\n",
    "       # from 10\n",
    "       ComplexScalar(3,1,-Rational(4,3)),\n",
    "       ComplexScalar(3,2,Rational(1,3)),\n",
    "       # from 24\n",
    "       RealScalar(8,1,0),\n",
    "       # from 70\n",
    "       ComplexScalar(1,2,1),\n",
    "       ComplexScalar(1,4,1),\n",
    "       ComplexScalar(3,3, Rational(8,3)),\n",
    "       ComplexScalar(6,2,-Rational(7,3)),\n",
    "       ComplexScalar(8,2,1),\n",
    "       # non-pert?? ComplexScalar(15,1,-Rational(2,3)),\n",
    "]"
   ]
  },
  {
   "cell_type": "markdown",
   "metadata": {
    "hidden": true
   },
   "source": [
    "No solutions with two or less additional reps:"
   ]
  },
  {
   "cell_type": "code",
   "execution_count": null,
   "metadata": {
    "collapsed": true,
    "hidden": true
   },
   "outputs": [],
   "source": [
    "for reps in itertools.combinations(vbl70, 2):\n",
    "    NBsearch(reps, fixreps=BPR)"
   ]
  },
  {
   "cell_type": "markdown",
   "metadata": {
    "hidden": true
   },
   "source": [
    "Solutions with **three** reps (first is already known (A1) since these reps are present also in 40, so only the second one is new):"
   ]
  },
  {
   "cell_type": "code",
   "execution_count": null,
   "metadata": {
    "hidden": true
   },
   "outputs": [],
   "source": [
    "for reps in itertools.combinations(vbl70, 3):\n",
    "    NBsearch(reps, fixreps=BPR)"
   ]
  },
  {
   "cell_type": "markdown",
   "metadata": {
    "hidden": true
   },
   "source": [
    "Solutions with **four** reps (only the last one is new)"
   ]
  },
  {
   "cell_type": "code",
   "execution_count": null,
   "metadata": {
    "hidden": true
   },
   "outputs": [],
   "source": [
    "for reps in itertools.combinations(vbl70, 4):\n",
    "    NBsearch(reps, fixreps=BPR)"
   ]
  },
  {
   "cell_type": "markdown",
   "metadata": {
    "hidden": true
   },
   "source": [
    "With **five** reps  (only the second one is new)"
   ]
  },
  {
   "cell_type": "code",
   "execution_count": null,
   "metadata": {
    "hidden": true
   },
   "outputs": [],
   "source": [
    "for reps in itertools.combinations(vbl70, 5):\n",
    "    NBsearch(reps, fixreps=BPR)"
   ]
  },
  {
   "cell_type": "markdown",
   "metadata": {
    "hidden": true
   },
   "source": [
    "And there are no new solutions with **6 or more** states below 1e11 GeV"
   ]
  },
  {
   "cell_type": "code",
   "execution_count": null,
   "metadata": {
    "collapsed": true,
    "hidden": true
   },
   "outputs": [],
   "source": [
    "for reps in itertools.combinations(vbl70, 6):\n",
    "    NBsearch(reps, fixreps=BPR)"
   ]
  },
  {
   "cell_type": "code",
   "execution_count": null,
   "metadata": {
    "collapsed": true,
    "hidden": true
   },
   "outputs": [],
   "source": [
    "for reps in itertools.combinations(vbl70, 7):\n",
    "    NBsearch(reps, fixreps=BPR)"
   ]
  },
  {
   "cell_type": "markdown",
   "metadata": {
    "hidden": true
   },
   "source": [
    "Note that all new solutions involve vector-like fermion (3,1,-2/3) at 0.5 TeV, effectivelly cancelling the efect of BPR vector-like fermions on RGE running via completing the **5** irrep of SU(5)."
   ]
  },
  {
   "cell_type": "markdown",
   "metadata": {},
   "source": [
    "# Numeric running and GUT checks (also 2L)"
   ]
  },
  {
   "cell_type": "markdown",
   "metadata": {
    "heading_collapsed": true
   },
   "source": [
    "## Test: models from Hagedorn"
   ]
  },
  {
   "cell_type": "markdown",
   "metadata": {
    "hidden": true
   },
   "source": [
    "These are the models for which unification should work."
   ]
  },
  {
   "cell_type": "code",
   "execution_count": null,
   "metadata": {
    "hidden": true
   },
   "outputs": [],
   "source": [
    "# Model S1-2  with 3 (3,2,y=1/6) scalar generations\n",
    "Bunif1L(BSMscalars=[ComplexScalar(3,2,1/3,3), ComplexScalar(3,1,-2/3)])"
   ]
  },
  {
   "cell_type": "code",
   "execution_count": null,
   "metadata": {
    "hidden": true
   },
   "outputs": [],
   "source": [
    "threshs, cRGE = precalcRGE(thresholds=[(0.9e2, ComplexScalar(3,2,1/3,3)), (0.9e2, ComplexScalar(3,1,-2/3))])"
   ]
  },
  {
   "cell_type": "code",
   "execution_count": null,
   "metadata": {
    "collapsed": true,
    "hidden": true
   },
   "outputs": [],
   "source": [
    "def func(y, t, twoloop=False):\n",
    "    \"\"\"Derivative of inverse alpha.\n",
    "    d inv_alpha/dt = c0 + c1/inv_alpha\n",
    "    \"\"\"\n",
    "    c0, c1 = cRGE[np.searchsorted(threshs, t)-1]\n",
    "    if twoloop:\n",
    "        return c0 + c1.dot(1/y)\n",
    "    else:\n",
    "        return c0"
   ]
  },
  {
   "cell_type": "code",
   "execution_count": null,
   "metadata": {
    "collapsed": true,
    "hidden": true
   },
   "outputs": [],
   "source": [
    "mu_max = 1e20  # we integrate up to this scale in GeV\n",
    "npts = 1000     # number of integration points\n",
    "ts = np.linspace(0, t(mu_max), npts)"
   ]
  },
  {
   "cell_type": "code",
   "execution_count": null,
   "metadata": {
    "collapsed": true,
    "hidden": true
   },
   "outputs": [],
   "source": [
    "twoloop = False\n",
    "ys = odeint(func, y0, ts, args=(twoloop,))"
   ]
  },
  {
   "cell_type": "code",
   "execution_count": null,
   "metadata": {
    "hidden": true
   },
   "outputs": [],
   "source": [
    "rgefig(ts, ys, xlim=(13,17), ylim=(30,50))"
   ]
  },
  {
   "cell_type": "code",
   "execution_count": null,
   "metadata": {
    "hidden": true
   },
   "outputs": [],
   "source": [
    "meet(ts, ys)"
   ]
  },
  {
   "cell_type": "code",
   "execution_count": null,
   "metadata": {
    "hidden": true
   },
   "outputs": [],
   "source": [
    "# Model S2-11\n",
    "Bunif1L(BSMfermions=[Dirac(1,2,-1)], BSMscalars=[ComplexScalar(3,2,1/3)])"
   ]
  },
  {
   "cell_type": "code",
   "execution_count": null,
   "metadata": {
    "collapsed": true,
    "hidden": true
   },
   "outputs": [],
   "source": [
    "threshs, cRGE = precalcRGE(thresholds=[(0.9e2, ComplexScalar(3,2,1/3)), (0.9e2, Dirac(1,2,-1))])"
   ]
  },
  {
   "cell_type": "code",
   "execution_count": null,
   "metadata": {
    "collapsed": true,
    "hidden": true
   },
   "outputs": [],
   "source": [
    "def func(y, t, twoloop=False):\n",
    "    \"\"\"Derivative of inverse alpha.\n",
    "    d inv_alpha/dt = c0 + c1/inv_alpha\n",
    "    \"\"\"\n",
    "    c0, c1 = cRGE[np.searchsorted(threshs, t)-1]\n",
    "    if twoloop:\n",
    "        return c0 + c1.dot(1/y)\n",
    "    else:\n",
    "        return c0"
   ]
  },
  {
   "cell_type": "code",
   "execution_count": null,
   "metadata": {
    "collapsed": true,
    "hidden": true
   },
   "outputs": [],
   "source": [
    "mu_max = 1e20  # we integrate up to this scale in GeV\n",
    "npts = 1000     # number of integration points\n",
    "ts = np.linspace(0, t(mu_max), npts)"
   ]
  },
  {
   "cell_type": "code",
   "execution_count": null,
   "metadata": {
    "collapsed": true,
    "hidden": true
   },
   "outputs": [],
   "source": [
    "twoloop = False\n",
    "ys = odeint(func, y0, ts, args=(twoloop,))"
   ]
  },
  {
   "cell_type": "code",
   "execution_count": null,
   "metadata": {
    "hidden": true
   },
   "outputs": [],
   "source": [
    "rgefig(ts, ys, xlim=(13,17), ylim=(30,50))"
   ]
  },
  {
   "cell_type": "code",
   "execution_count": null,
   "metadata": {
    "hidden": true
   },
   "outputs": [],
   "source": [
    "meet(ts, ys)"
   ]
  },
  {
   "cell_type": "markdown",
   "metadata": {
    "heading_collapsed": true
   },
   "source": [
    "## Test: Model from Fileviez Perez and Murgui"
   ]
  },
  {
   "cell_type": "code",
   "execution_count": null,
   "metadata": {
    "collapsed": true,
    "hidden": true
   },
   "outputs": [],
   "source": [
    "# From Appendix, our Y is twice theirs\n",
    "H45 = {\n",
    "    'Phi1' : ComplexScalar(8,2,1),\n",
    "    'Phi2' : ComplexScalar(6,1,-Rational(2,3)),\n",
    "    'Phi3' : ComplexScalar(3,3,-Rational(2,3)),\n",
    "    'Phi4' : ComplexScalar(3,2,-Rational(7,3)),\n",
    "    'Phi5' : ComplexScalar(3,1, -Rational(2,3)),\n",
    "    'Phi6' : ComplexScalar(3,1,Rational(8,3)),\n",
    "    'H2' : ComplexScalar(1,2,1)\n",
    "}"
   ]
  },
  {
   "cell_type": "code",
   "execution_count": null,
   "metadata": {
    "collapsed": true,
    "hidden": true
   },
   "outputs": [],
   "source": [
    "mPhi1 = 3.1e3\n",
    "mPhi3 = 1.0e1**8.6\n",
    "mH2 = 3.1e3\n",
    "threshs, cRGE = precalcRGE(thresholds=[\n",
    "    (mPhi1, H45['Phi1']),\n",
    "    (mPhi3, H45['Phi3']),\n",
    "    (mH2, H45['H2'])\n",
    "])"
   ]
  },
  {
   "cell_type": "code",
   "execution_count": null,
   "metadata": {
    "collapsed": true,
    "hidden": true
   },
   "outputs": [],
   "source": [
    "def func(y, t, twoloop=False):\n",
    "    \"\"\"Derivative of inverse alpha.\n",
    "    d inv_alpha/dt = c0 + c1/inv_alpha\n",
    "    \"\"\"\n",
    "    c0, c1 = cRGE[np.searchsorted(threshs, t)-1]\n",
    "    if twoloop:\n",
    "        return c0 + c1.dot(1/y)\n",
    "    else:\n",
    "        return c0"
   ]
  },
  {
   "cell_type": "code",
   "execution_count": null,
   "metadata": {
    "collapsed": true,
    "hidden": true
   },
   "outputs": [],
   "source": [
    "mu_max = 1e20  # we integrate up to this scale in GeV\n",
    "npts = 1000     # number of integration points\n",
    "ts = np.linspace(0, t(mu_max), npts)"
   ]
  },
  {
   "cell_type": "code",
   "execution_count": null,
   "metadata": {
    "collapsed": true,
    "hidden": true
   },
   "outputs": [],
   "source": [
    "twoloop = False\n",
    "ys = odeint(func, y0, ts, args=(twoloop,))"
   ]
  },
  {
   "cell_type": "code",
   "execution_count": null,
   "metadata": {
    "hidden": true
   },
   "outputs": [],
   "source": [
    "meet(ts, ys)"
   ]
  },
  {
   "cell_type": "code",
   "execution_count": null,
   "metadata": {
    "hidden": true
   },
   "outputs": [],
   "source": [
    "rgefig(ts, ys, xlim=(12,17), ylim=(30,50))"
   ]
  },
  {
   "cell_type": "markdown",
   "metadata": {
    "hidden": true
   },
   "source": [
    "So this is the unification scale from leftmost point of their Fig. 2"
   ]
  },
  {
   "cell_type": "code",
   "execution_count": null,
   "metadata": {
    "hidden": true
   },
   "outputs": [],
   "source": [
    "np.log10(6.5e15)"
   ]
  },
  {
   "cell_type": "markdown",
   "metadata": {
    "hidden": true
   },
   "source": [
    "Is this result preserved at 2L?"
   ]
  },
  {
   "cell_type": "code",
   "execution_count": null,
   "metadata": {
    "collapsed": true,
    "hidden": true
   },
   "outputs": [],
   "source": [
    "mPhi1 = 3.1e3\n",
    "mPhi3 = 8.0e9\n",
    "mH2 = 3.1e3\n",
    "threshs, cRGE = precalcRGE(thresholds=[\n",
    "    (mPhi1, H45['Phi1']),\n",
    "    (mPhi3, H45['Phi3']),\n",
    "    (mH2, H45['H2'])\n",
    "])"
   ]
  },
  {
   "cell_type": "code",
   "execution_count": null,
   "metadata": {
    "collapsed": true,
    "hidden": true
   },
   "outputs": [],
   "source": [
    "def func(y, t, twoloop=False):\n",
    "    \"\"\"Derivative of inverse alpha.\n",
    "    d inv_alpha/dt = c0 + c1/inv_alpha\n",
    "    \"\"\"\n",
    "    c0, c1 = cRGE[np.searchsorted(threshs, t)-1]\n",
    "    if twoloop:\n",
    "        return c0 + c1.dot(1/y)\n",
    "    else:\n",
    "        return c0"
   ]
  },
  {
   "cell_type": "code",
   "execution_count": null,
   "metadata": {
    "collapsed": true,
    "hidden": true
   },
   "outputs": [],
   "source": [
    "mu_max = 1e20  # we integrate up to this scale in GeV\n",
    "npts = 1000     # number of integration points\n",
    "ts = np.linspace(0, t(mu_max), npts)"
   ]
  },
  {
   "cell_type": "code",
   "execution_count": null,
   "metadata": {
    "collapsed": true,
    "hidden": true
   },
   "outputs": [],
   "source": [
    "twoloop = True\n",
    "ys = odeint(func, y0, ts, args=(twoloop,))"
   ]
  },
  {
   "cell_type": "code",
   "execution_count": null,
   "metadata": {
    "hidden": true
   },
   "outputs": [],
   "source": [
    "meet(ts, ys)"
   ]
  },
  {
   "cell_type": "code",
   "execution_count": null,
   "metadata": {
    "hidden": true
   },
   "outputs": [],
   "source": [
    "rgefig(ts, ys, xlim=(12,17), ylim=(30,50))"
   ]
  },
  {
   "cell_type": "markdown",
   "metadata": {
    "hidden": true
   },
   "source": [
    "It is, again with 10% increase of GUT scale."
   ]
  },
  {
   "cell_type": "markdown",
   "metadata": {
    "heading_collapsed": true
   },
   "source": [
    "## BPR with H in 45  --- all solutions"
   ]
  },
  {
   "cell_type": "markdown",
   "metadata": {
    "hidden": true
   },
   "source": [
    "Three particle solutions"
   ]
  },
  {
   "cell_type": "code",
   "execution_count": null,
   "metadata": {
    "hidden": true
   },
   "outputs": [],
   "source": [
    "#--- [(3, 1, -2/3), (3, 2, 1/3), (8, 2, 1)] --- \n",
    "#rk = [ 0.64630908  0.94516029  0.94502483]\n",
    "#mk = [  5.32544688e+06   5.00000000e+02   5.02106037e+02]\n",
    "#mGUTmax = 2.730e+15 (<- 1.0e+15)\n",
    "\n",
    "\n",
    "mBPR = 500.\n",
    "mF = 5.1e+06\n",
    "\n",
    "#\n",
    "threshs, cRGE = precalcRGE(thresholds=[\n",
    "    (mBPR, ComplexScalar(1,1,2)), \n",
    "    (mBPR, RealScalar(1,3,0)),\n",
    "    (mBPR, Weyl(1,2,1, ng)), \n",
    "    (mBPR, Weyl(1,2,-1, ng)),\n",
    "    #\n",
    "    (mF, Weyl(3,1,-Rational(2,3), ng)), \n",
    "    (mF, Weyl(3,1, Rational(2,3), ng)),\n",
    "    (mBPR, ComplexScalar(3,2,Rational(1,3))),\n",
    "    #(m81, RealScalar(8,1,0)),\n",
    "    #(m61, ComplexScalar(6,1,-Rational(2,3))),\n",
    "    (mBPR, ComplexScalar(8,2,1))\n",
    "    \n",
    "])\n",
    "\n",
    "def func(y, t, twoloop=False):\n",
    "    \"\"\"Derivative of inverse alpha.\n",
    "    d inv_alpha/dt = c0 + c1/inv_alpha\n",
    "    \"\"\"\n",
    "    c0, c1 = cRGE[np.searchsorted(threshs, t)-1]\n",
    "    if twoloop:\n",
    "        return c0 + c1.dot(1/y)\n",
    "    else:\n",
    "        return c0\n",
    "\n",
    "mu_max = 1e20  # we integrate up to this scale in GeV\n",
    "npts = 1000     # number of integration points\n",
    "ts = np.linspace(0, t(mu_max), npts)\n",
    "\n",
    "twoloop = False\n",
    "ys = odeint(func, y0, ts, args=(twoloop,))\n",
    "\n",
    "meet(ts, ys)"
   ]
  },
  {
   "cell_type": "code",
   "execution_count": null,
   "metadata": {
    "hidden": true
   },
   "outputs": [],
   "source": [
    "#--- [(3, 1, -2/3), (3, 2, 1/3), (8, 2, 1)] --- \n",
    "#rk = [ 0.64630908  0.94516029  0.94502483]\n",
    "#mk = [  5.32544688e+06   5.00000000e+02   5.02106037e+02]\n",
    "#mGUTmax = 2.730e+15 (<- 1.0e+15)\n",
    "\n",
    "\n",
    "mBPR = 500.\n",
    "mF = 0.54e+06\n",
    "\n",
    "#\n",
    "threshs, cRGE = precalcRGE(thresholds=[\n",
    "    (mBPR, ComplexScalar(1,1,2)), \n",
    "    (mBPR, RealScalar(1,3,0)),\n",
    "    (mBPR, Weyl(1,2,1, ng)), \n",
    "    (mBPR, Weyl(1,2,-1, ng)),\n",
    "    #\n",
    "    (mF, Weyl(3,1,-Rational(2,3), ng)), \n",
    "    (mF, Weyl(3,1, Rational(2,3), ng)),\n",
    "    (mBPR, ComplexScalar(3,2,Rational(1,3))),\n",
    "    #(m81, RealScalar(8,1,0)),\n",
    "    #(m61, ComplexScalar(6,1,-Rational(2,3))),\n",
    "    (mBPR, ComplexScalar(8,2,1))\n",
    "    \n",
    "])\n",
    "\n",
    "def func(y, t, twoloop=False):\n",
    "    \"\"\"Derivative of inverse alpha.\n",
    "    d inv_alpha/dt = c0 + c1/inv_alpha\n",
    "    \"\"\"\n",
    "    c0, c1 = cRGE[np.searchsorted(threshs, t)-1]\n",
    "    if twoloop:\n",
    "        return c0 + c1.dot(1/y)\n",
    "    else:\n",
    "        return c0\n",
    "\n",
    "mu_max = 1e20  # we integrate up to this scale in GeV\n",
    "npts = 1000     # number of integration points\n",
    "ts = np.linspace(0, t(mu_max), npts)\n",
    "\n",
    "twoloop = True\n",
    "ys = odeint(func, y0, ts, args=(twoloop,))\n",
    "\n",
    "meet(ts, ys)"
   ]
  },
  {
   "cell_type": "code",
   "execution_count": null,
   "metadata": {
    "hidden": true
   },
   "outputs": [],
   "source": [
    "#--- [(8, 1, 0), (6, 1, -2/3), (8, 2, 1)] --- \n",
    "#rk = [ 0.94375385  0.77259809  0.94491073]\n",
    "#mk = [    518.19080488  102464.77927779     500.        ]\n",
    "#mGUTmax = 2.372e+15 (<- 1.0e+15)\n",
    "\n",
    "mBPR = 500.\n",
    "\n",
    "\n",
    "m61 = 90.e3\n",
    "\n",
    "#\n",
    "threshs, cRGE = precalcRGE(thresholds=[\n",
    "    (mBPR, ComplexScalar(1,1,2)), \n",
    "    (mBPR, RealScalar(1,3,0)),\n",
    "    (mBPR, Weyl(1,2,1, ng)), \n",
    "    (mBPR, Weyl(1,2,-1, ng)),\n",
    "    (mBPR, RealScalar(8,1,0)),\n",
    "    (m61, ComplexScalar(6,1,-Rational(2,3))),\n",
    "    (mBPR, ComplexScalar(8,2,1))\n",
    "    \n",
    "])\n",
    "\n",
    "def func(y, t, twoloop=False):\n",
    "    \"\"\"Derivative of inverse alpha.\n",
    "    d inv_alpha/dt = c0 + c1/inv_alpha\n",
    "    \"\"\"\n",
    "    c0, c1 = cRGE[np.searchsorted(threshs, t)-1]\n",
    "    if twoloop:\n",
    "        return c0 + c1.dot(1/y)\n",
    "    else:\n",
    "        return c0\n",
    "\n",
    "mu_max = 1e20  # we integrate up to this scale in GeV\n",
    "npts = 1000     # number of integration points\n",
    "ts = np.linspace(0, t(mu_max), npts)\n",
    "\n",
    "twoloop = False\n",
    "ys = odeint(func, y0, ts, args=(twoloop,))\n",
    "\n",
    "meet(ts, ys)"
   ]
  },
  {
   "cell_type": "code",
   "execution_count": null,
   "metadata": {
    "hidden": true
   },
   "outputs": [],
   "source": [
    "#--- [(8, 1, 0), (6, 1, -2/3), (8, 2, 1)] --- \n",
    "#rk = [ 0.94375385  0.77259809  0.94491073]\n",
    "#mk = [    518.19080488  102464.77927779     500.        ]\n",
    "#mGUTmax = 2.372e+15 (<- 1.0e+15)\n",
    "\n",
    "mBPR = 500.\n",
    "\n",
    "\n",
    "m61 = 40.e3\n",
    "\n",
    "#\n",
    "threshs, cRGE = precalcRGE(thresholds=[\n",
    "    (mBPR, ComplexScalar(1,1,2)), \n",
    "    (mBPR, RealScalar(1,3,0)),\n",
    "    (mBPR, Weyl(1,2,1, ng)), \n",
    "    (mBPR, Weyl(1,2,-1, ng)),\n",
    "    (mBPR, RealScalar(8,1,0)),\n",
    "    (m61, ComplexScalar(6,1,-Rational(2,3))),\n",
    "    (mBPR, ComplexScalar(8,2,1))\n",
    "    \n",
    "])\n",
    "\n",
    "def func(y, t, twoloop=False):\n",
    "    \"\"\"Derivative of inverse alpha.\n",
    "    d inv_alpha/dt = c0 + c1/inv_alpha\n",
    "    \"\"\"\n",
    "    c0, c1 = cRGE[np.searchsorted(threshs, t)-1]\n",
    "    if twoloop:\n",
    "        return c0 + c1.dot(1/y)\n",
    "    else:\n",
    "        return c0\n",
    "\n",
    "mu_max = 1e20  # we integrate up to this scale in GeV\n",
    "npts = 1000     # number of integration points\n",
    "ts = np.linspace(0, t(mu_max), npts)\n",
    "\n",
    "twoloop = True\n",
    "ys = odeint(func, y0, ts, args=(twoloop,))\n",
    "\n",
    "meet(ts, ys)"
   ]
  },
  {
   "cell_type": "markdown",
   "metadata": {
    "hidden": true
   },
   "source": [
    "**Four** particles"
   ]
  },
  {
   "cell_type": "code",
   "execution_count": null,
   "metadata": {
    "hidden": true
   },
   "outputs": [],
   "source": [
    "#--- [(3, 1, -2/3), (3, 2, 1/3), (8, 1, 0), (8, 2, 1)] --- \n",
    "#rk = [ 0.46261449  0.94652674  0.94632563  0.94652674]\n",
    "#mk = [  2.43739302e+09   5.00000000e+02   5.03210177e+02   5.00000000e+02]\n",
    "#mGUTmax = 6.033e+15 (<- 1.0e+15)\n",
    "\n",
    "\n",
    "mBPR = 500.\n",
    "mF = 2.28e+09\n",
    "\n",
    "#\n",
    "threshs, cRGE = precalcRGE(thresholds=[\n",
    "    (mBPR, ComplexScalar(1,1,2)), \n",
    "    (mBPR, RealScalar(1,3,0)),\n",
    "    (mBPR, Weyl(1,2,1, ng)), \n",
    "    (mBPR, Weyl(1,2,-1, ng)),\n",
    "    #\n",
    "    (mF, Weyl(3,1,-Rational(2,3), ng)), \n",
    "    (mF, Weyl(3,1, Rational(2,3), ng)),\n",
    "    (mBPR, ComplexScalar(3,2, Rational(1,3))),\n",
    "    (mBPR, RealScalar(8,1,0)),\n",
    "    #(m61, ComplexScalar(6,1,-Rational(2,3))),\n",
    "    (mBPR, ComplexScalar(8,2,1))\n",
    "    \n",
    "])\n",
    "\n",
    "def func(y, t, twoloop=False):\n",
    "    \"\"\"Derivative of inverse alpha.\n",
    "    d inv_alpha/dt = c0 + c1/inv_alpha\n",
    "    \"\"\"\n",
    "    c0, c1 = cRGE[np.searchsorted(threshs, t)-1]\n",
    "    if twoloop:\n",
    "        return c0 + c1.dot(1/y)\n",
    "    else:\n",
    "        return c0\n",
    "\n",
    "mu_max = 1e20  # we integrate up to this scale in GeV\n",
    "npts = 1000     # number of integration points\n",
    "ts = np.linspace(0, t(mu_max), npts)\n",
    "\n",
    "twoloop = False\n",
    "ys = odeint(func, y0, ts, args=(twoloop,))\n",
    "\n",
    "meet(ts, ys)"
   ]
  },
  {
   "cell_type": "code",
   "execution_count": null,
   "metadata": {
    "hidden": true
   },
   "outputs": [],
   "source": [
    "#--- [(3, 1, -2/3), (3, 2, 1/3), (8, 1, 0), (8, 2, 1)] --- \n",
    "#rk = [ 0.46261449  0.94652674  0.94632563  0.94652674]\n",
    "#mk = [  2.43739302e+09   5.00000000e+02   5.03210177e+02   5.00000000e+02]\n",
    "#mGUTmax = 6.033e+15 (<- 1.0e+15)\n",
    "\n",
    "\n",
    "mBPR = 500.\n",
    "mF = 0.56e9\n",
    "\n",
    "#\n",
    "threshs, cRGE = precalcRGE(thresholds=[\n",
    "    (mBPR, ComplexScalar(1,1,2)), \n",
    "    (mBPR, RealScalar(1,3,0)),\n",
    "    (mBPR, Weyl(1,2,1, ng)), \n",
    "    (mBPR, Weyl(1,2,-1, ng)),\n",
    "    #\n",
    "    (mF, Weyl(3,1,-Rational(2,3), ng)), \n",
    "    (mF, Weyl(3,1, Rational(2,3), ng)),\n",
    "    (mBPR, ComplexScalar(3,2, Rational(1,3))),\n",
    "    (mBPR, RealScalar(8,1,0)),\n",
    "    #(m61, ComplexScalar(6,1,-Rational(2,3))),\n",
    "    (mBPR, ComplexScalar(8,2,1))\n",
    "    \n",
    "])\n",
    "\n",
    "def func(y, t, twoloop=False):\n",
    "    \"\"\"Derivative of inverse alpha.\n",
    "    d inv_alpha/dt = c0 + c1/inv_alpha\n",
    "    \"\"\"\n",
    "    c0, c1 = cRGE[np.searchsorted(threshs, t)-1]\n",
    "    if twoloop:\n",
    "        return c0 + c1.dot(1/y)\n",
    "    else:\n",
    "        return c0\n",
    "\n",
    "mu_max = 1e20  # we integrate up to this scale in GeV\n",
    "npts = 1000     # number of integration points\n",
    "ts = np.linspace(0, t(mu_max), npts)\n",
    "\n",
    "twoloop = True\n",
    "ys = odeint(func, y0, ts, args=(twoloop,))\n",
    "\n",
    "meet(ts, ys)"
   ]
  },
  {
   "cell_type": "code",
   "execution_count": null,
   "metadata": {
    "hidden": true
   },
   "outputs": [],
   "source": [
    "\n",
    "#--- [(3, 1, -2/3), (3, 2, 1/3), (1, 2, 1), (8, 2, 1)] --- \n",
    "#rk = [ 0.72507244  0.94516029  0.94516029  0.94502483]\n",
    "#mk = [ 462299.40776013     499.99999998     499.99999998     502.10603536]\n",
    "#mGUTmax = 2.730e+15 (<- 1.0e+15)\n",
    "\n",
    "\n",
    "mBPR = 500.\n",
    "mF = 450.e3\n",
    "\n",
    "#\n",
    "threshs, cRGE = precalcRGE(thresholds=[\n",
    "    (mBPR, ComplexScalar(1,1,2)), \n",
    "    (mBPR, RealScalar(1,3,0)),\n",
    "    (mBPR, Weyl(1,2,1, ng)), \n",
    "    (mBPR, Weyl(1,2,-1, ng)),\n",
    "    #\n",
    "    (mF, Weyl(3,1,-Rational(2,3), ng)), \n",
    "    (mF, Weyl(3,1, Rational(2,3), ng)),\n",
    "    (mBPR, ComplexScalar(3,2, Rational(1,3))),\n",
    "    #(mBPR, RealScalar(8,1,0)),\n",
    "    (mBPR, ComplexScalar(1,2,1)),\n",
    "    #(m61, ComplexScalar(6,1,-Rational(2,3))),\n",
    "    (mBPR, ComplexScalar(8,2,1))\n",
    "])\n",
    "\n",
    "def func(y, t, twoloop=False):\n",
    "    \"\"\"Derivative of inverse alpha.\n",
    "    d inv_alpha/dt = c0 + c1/inv_alpha\n",
    "    \"\"\"\n",
    "    c0, c1 = cRGE[np.searchsorted(threshs, t)-1]\n",
    "    if twoloop:\n",
    "        return c0 + c1.dot(1/y)\n",
    "    else:\n",
    "        return c0\n",
    "\n",
    "mu_max = 1e20  # we integrate up to this scale in GeV\n",
    "npts = 1000     # number of integration points\n",
    "ts = np.linspace(0, t(mu_max), npts)\n",
    "\n",
    "twoloop = False\n",
    "ys = odeint(func, y0, ts, args=(twoloop,))\n",
    "\n",
    "meet(ts, ys)"
   ]
  },
  {
   "cell_type": "code",
   "execution_count": null,
   "metadata": {
    "hidden": true
   },
   "outputs": [],
   "source": [
    "\n",
    "#--- [(3, 1, -2/3), (3, 2, 1/3), (1, 2, 1), (8, 2, 1)] --- \n",
    "#rk = [ 0.72507244  0.94516029  0.94516029  0.94502483]\n",
    "#mk = [ 462299.40776013     499.99999998     499.99999998     502.10603536]\n",
    "#mGUTmax = 2.730e+15 (<- 1.0e+15)\n",
    "\n",
    "\n",
    "mBPR = 500.\n",
    "mF = 44.e3\n",
    "\n",
    "#\n",
    "threshs, cRGE = precalcRGE(thresholds=[\n",
    "    (mBPR, ComplexScalar(1,1,2)), \n",
    "    (mBPR, RealScalar(1,3,0)),\n",
    "    (mBPR, Weyl(1,2,1, ng)), \n",
    "    (mBPR, Weyl(1,2,-1, ng)),\n",
    "    #\n",
    "    (mF, Weyl(3,1,-Rational(2,3), ng)), \n",
    "    (mF, Weyl(3,1, Rational(2,3), ng)),\n",
    "    (mBPR, ComplexScalar(3,2, Rational(1,3))),\n",
    "    #(mBPR, RealScalar(8,1,0)),\n",
    "    (mBPR, ComplexScalar(1,2,1)),\n",
    "    #(m61, ComplexScalar(6,1,-Rational(2,3))),\n",
    "    (mBPR, ComplexScalar(8,2,1))\n",
    "])\n",
    "\n",
    "def func(y, t, twoloop=False):\n",
    "    \"\"\"Derivative of inverse alpha.\n",
    "    d inv_alpha/dt = c0 + c1/inv_alpha\n",
    "    \"\"\"\n",
    "    c0, c1 = cRGE[np.searchsorted(threshs, t)-1]\n",
    "    if twoloop:\n",
    "        return c0 + c1.dot(1/y)\n",
    "    else:\n",
    "        return c0\n",
    "\n",
    "mu_max = 1e20  # we integrate up to this scale in GeV\n",
    "npts = 1000     # number of integration points\n",
    "ts = np.linspace(0, t(mu_max), npts)\n",
    "\n",
    "twoloop = True\n",
    "ys = odeint(func, y0, ts, args=(twoloop,))\n",
    "\n",
    "meet(ts, ys)"
   ]
  },
  {
   "cell_type": "code",
   "execution_count": null,
   "metadata": {
    "hidden": true
   },
   "outputs": [],
   "source": [
    "#--- [(8, 1, 0), (1, 2, 1), (6, 1, -2/3), (8, 2, 1)] --- \n",
    "#rk = [ 0.94516029  0.75073359  0.94516029  0.94502483]\n",
    "#mk = [    500.          208500.89900973     500.         #    502.10603162]\n",
    "#mGUTmax = 2.730e+15 (<- 1.0e+15)\n",
    "\n",
    "mBPR = 500.\n",
    "mH = 260.e3\n",
    "\n",
    "#\n",
    "threshs, cRGE = precalcRGE(thresholds=[\n",
    "    (mBPR, ComplexScalar(1,1,2)), \n",
    "    (mBPR, RealScalar(1,3,0)),\n",
    "    (mBPR, Weyl(1,2,1, ng)), \n",
    "    (mBPR, Weyl(1,2,-1, ng)),\n",
    "    #\n",
    "    #(mF, Weyl(3,1,-Rational(2,3), ng)), \n",
    "    #(mF, Weyl(3,1, Rational(2,3), ng)),\n",
    "    #(mBPR, ComplexScalar(3,2, Rational(1,3))),\n",
    "    (mBPR, RealScalar(8,1,0)),\n",
    "    (mH, ComplexScalar(1,2,1)),\n",
    "    (mBPR, ComplexScalar(6,1,-Rational(2,3))),\n",
    "    (mBPR, ComplexScalar(8,2,1))\n",
    "])\n",
    "\n",
    "def func(y, t, twoloop=False):\n",
    "    \"\"\"Derivative of inverse alpha.\n",
    "    d inv_alpha/dt = c0 + c1/inv_alpha\n",
    "    \"\"\"\n",
    "    c0, c1 = cRGE[np.searchsorted(threshs, t)-1]\n",
    "    if twoloop:\n",
    "        return c0 + c1.dot(1/y)\n",
    "    else:\n",
    "        return c0\n",
    "\n",
    "mu_max = 1e20  # we integrate up to this scale in GeV\n",
    "npts = 1000     # number of integration points\n",
    "ts = np.linspace(0, t(mu_max), npts)\n",
    "\n",
    "twoloop = False\n",
    "ys = odeint(func, y0, ts, args=(twoloop,))\n",
    "\n",
    "meet(ts, ys)"
   ]
  },
  {
   "cell_type": "code",
   "execution_count": null,
   "metadata": {
    "hidden": true
   },
   "outputs": [],
   "source": [
    "#--- [(8, 1, 0), (1, 2, 1), (6, 1, -2/3), (8, 2, 1)] --- \n",
    "#rk = [ 0.94516029  0.75073359  0.94516029  0.94502483]\n",
    "#mk = [    500.          208500.89900973     500.         #    502.10603162]\n",
    "#mGUTmax = 2.730e+15 (<- 1.0e+15)\n",
    "\n",
    "mBPR = 500.\n",
    "mH = 260.e3\n",
    "\n",
    "#\n",
    "threshs, cRGE = precalcRGE(thresholds=[\n",
    "    (mBPR, ComplexScalar(1,1,2)), \n",
    "    (mBPR, RealScalar(1,3,0)),\n",
    "    (mBPR, Weyl(1,2,1, ng)), \n",
    "    (mBPR, Weyl(1,2,-1, ng)),\n",
    "    #\n",
    "    #(mF, Weyl(3,1,-Rational(2,3), ng)), \n",
    "    #(mF, Weyl(3,1, Rational(2,3), ng)),\n",
    "    #(mBPR, ComplexScalar(3,2, Rational(1,3))),\n",
    "    (mBPR, RealScalar(8,1,0)),\n",
    "    (mH, ComplexScalar(1,2,1)),\n",
    "    (mBPR, ComplexScalar(6,1,-Rational(2,3))),\n",
    "    (mBPR, ComplexScalar(8,2,1))\n",
    "])\n",
    "\n",
    "def func(y, t, twoloop=False):\n",
    "    \"\"\"Derivative of inverse alpha.\n",
    "    d inv_alpha/dt = c0 + c1/inv_alpha\n",
    "    \"\"\"\n",
    "    c0, c1 = cRGE[np.searchsorted(threshs, t)-1]\n",
    "    if twoloop:\n",
    "        return c0 + c1.dot(1/y)\n",
    "    else:\n",
    "        return c0\n",
    "\n",
    "mu_max = 1e20  # we integrate up to this scale in GeV\n",
    "npts = 1000     # number of integration points\n",
    "ts = np.linspace(0, t(mu_max), npts)\n",
    "\n",
    "twoloop = True\n",
    "ys = odeint(func, y0, ts, args=(twoloop,))\n",
    "\n",
    "meet(ts, ys)"
   ]
  },
  {
   "cell_type": "markdown",
   "metadata": {
    "hidden": true
   },
   "source": [
    "Now a special 3-particle scenario, with unification only for mass of these particels 180 Gev (1L) or 275 GeV (2L"
   ]
  },
  {
   "cell_type": "code",
   "execution_count": null,
   "metadata": {
    "hidden": true
   },
   "outputs": [],
   "source": [
    "#--- [(8, 1, 0), (1, 2, 1), (6, 1, -2/3), (8, 2, 1)] --- \n",
    "#rk = [ 0.94516029  0.75073359  0.94516029  0.94502483]\n",
    "#mk = [    500.          208500.89900973     500.             502.10603162]\n",
    "#mGUTmax = 2.730e+15 (<- 1.0e+15)\n",
    "#--- [(8, 1, 0), (1, 2, 1), (6, 1, -2/3), (8, 2, 1)] --- \n",
    "#rk = [ 0.94545212  0.94545212  0.94545212  0.94545212]\n",
    "#mk = [ 497.3549669  497.3549669  497.3549669  497.3549669]\n",
    "#mGUTmax = 2.924e+15 (<- 1.0e+15)\n",
    "\n",
    "mBPR = 500.\n",
    "mS = 180.\n",
    "\n",
    "#\n",
    "threshs, cRGE = precalcRGE(thresholds=[\n",
    "    (mBPR, ComplexScalar(1,1,2)), \n",
    "    (mBPR, RealScalar(1,3,0)),\n",
    "    (mBPR, Weyl(1,2,1, ng)), \n",
    "    (mBPR, Weyl(1,2,-1, ng)),\n",
    "    #\n",
    "    #(mF, Weyl(3,1,-Rational(2,3), ng)), \n",
    "    #(mF, Weyl(3,1, Rational(2,3), ng)),\n",
    "    #(mBPR, ComplexScalar(3,2, Rational(1,3))),\n",
    "    (mS, RealScalar(8,1,0)),\n",
    "    (mS, ComplexScalar(1,2,1)),\n",
    "    (mS, ComplexScalar(6,1,-Rational(2,3))),\n",
    "    (mS, ComplexScalar(8,2,1))\n",
    "])\n",
    "\n",
    "def func(y, t, twoloop=False):\n",
    "    \"\"\"Derivative of inverse alpha.\n",
    "    d inv_alpha/dt = c0 + c1/inv_alpha\n",
    "    \"\"\"\n",
    "    c0, c1 = cRGE[np.searchsorted(threshs, t)-1]\n",
    "    if twoloop:\n",
    "        return c0 + c1.dot(1/y)\n",
    "    else:\n",
    "        return c0\n",
    "\n",
    "mu_max = 1e20  # we integrate up to this scale in GeV\n",
    "npts = 1000     # number of integration points\n",
    "ts = np.linspace(0, t(mu_max), npts)\n",
    "\n",
    "twoloop = False\n",
    "ys = odeint(func, y0, ts, args=(twoloop,))\n",
    "\n",
    "meet(ts, ys)"
   ]
  },
  {
   "cell_type": "code",
   "execution_count": null,
   "metadata": {
    "hidden": true
   },
   "outputs": [],
   "source": [
    "\n",
    "#--- [(8, 1, 0), (1, 2, 1), (6, 1, -2/3), (8, 2, 1)] --- \n",
    "#rk = [ 0.94545212  0.94545212  0.94545212  0.94545212]\n",
    "#mk = [ 497.3549669  497.3549669  497.3549669  497.3549669]\n",
    "#mGUTmax = 2.924e+15 (<- 1.0e+15)\n",
    "\n",
    "mBPR = 500.\n",
    "mS = 275.\n",
    "\n",
    "#\n",
    "threshs, cRGE = precalcRGE(thresholds=[\n",
    "    (mBPR, ComplexScalar(1,1,2)), \n",
    "    (mBPR, RealScalar(1,3,0)),\n",
    "    (mBPR, Weyl(1,2,1, ng)), \n",
    "    (mBPR, Weyl(1,2,-1, ng)),\n",
    "    #\n",
    "    #(mF, Weyl(3,1,-Rational(2,3), ng)), \n",
    "    #(mF, Weyl(3,1, Rational(2,3), ng)),\n",
    "    #(mBPR, ComplexScalar(3,2, Rational(1,3))),\n",
    "    (mS, RealScalar(8,1,0)),\n",
    "    (mS, ComplexScalar(1,2,1)),\n",
    "    (mS, ComplexScalar(6,1,-Rational(2,3))),\n",
    "    (mS, ComplexScalar(8,2,1))\n",
    "])\n",
    "\n",
    "def func(y, t, twoloop=False):\n",
    "    \"\"\"Derivative of inverse alpha.\n",
    "    d inv_alpha/dt = c0 + c1/inv_alpha\n",
    "    \"\"\"\n",
    "    c0, c1 = cRGE[np.searchsorted(threshs, t)-1]\n",
    "    if twoloop:\n",
    "        return c0 + c1.dot(1/y)\n",
    "    else:\n",
    "        return c0\n",
    "\n",
    "mu_max = 1e20  # we integrate up to this scale in GeV\n",
    "npts = 1000     # number of integration points\n",
    "ts = np.linspace(0, t(mu_max), npts)\n",
    "\n",
    "twoloop = True\n",
    "ys = odeint(func, y0, ts, args=(twoloop,))\n",
    "\n",
    "meet(ts, ys)"
   ]
  },
  {
   "cell_type": "markdown",
   "metadata": {
    "hidden": true
   },
   "source": [
    "**Five** particle solution"
   ]
  },
  {
   "cell_type": "code",
   "execution_count": null,
   "metadata": {
    "hidden": true
   },
   "outputs": [],
   "source": [
    "#--- [(3, 1, -2/3), (3, 2, 1/3), (8, 1, 0), (1, 2, 1), (8, 2, 1)] --- \n",
    "#rk = [ 0.54145428  0.94652702  0.94651862  0.94652702  0.94652702]\n",
    "#mk = [  1.98310476e+08   5.00000000e+02   5.00133696e+02   5.00000000e+02 5.00000000e+02]\n",
    "#mGUTmax = 6.034e+15 (<- 1.0e+15)\n",
    "\n",
    "\n",
    "mBPR = 500.\n",
    "mF = 1.85e+8\n",
    "\n",
    "#\n",
    "threshs, cRGE = precalcRGE(thresholds=[\n",
    "    (mBPR, ComplexScalar(1,1,2)), \n",
    "    (mBPR, RealScalar(1,3,0)),\n",
    "    (mBPR, Weyl(1,2,1, ng)), \n",
    "    (mBPR, Weyl(1,2,-1, ng)),\n",
    "    #\n",
    "    (mF, Weyl(3,1,-Rational(2,3), ng)), \n",
    "    (mF, Weyl(3,1, Rational(2,3), ng)),\n",
    "    (mBPR, ComplexScalar(3,2, Rational(1,3))),\n",
    "    (mBPR, RealScalar(8,1,0)),\n",
    "    (mBPR, ComplexScalar(1,2,1)),\n",
    "    #(mS, ComplexScalar(6,1,-Rational(2,3))),\n",
    "    (mBPR, ComplexScalar(8,2,1))\n",
    "])\n",
    "\n",
    "def func(y, t, twoloop=False):\n",
    "    \"\"\"Derivative of inverse alpha.\n",
    "    d inv_alpha/dt = c0 + c1/inv_alpha\n",
    "    \"\"\"\n",
    "    c0, c1 = cRGE[np.searchsorted(threshs, t)-1]\n",
    "    if twoloop:\n",
    "        return c0 + c1.dot(1/y)\n",
    "    else:\n",
    "        return c0\n",
    "\n",
    "mu_max = 1e20  # we integrate up to this scale in GeV\n",
    "npts = 1000     # number of integration points\n",
    "ts = np.linspace(0, t(mu_max), npts)\n",
    "\n",
    "twoloop = False\n",
    "ys = odeint(func, y0, ts, args=(twoloop,))\n",
    "\n",
    "meet(ts, ys)"
   ]
  },
  {
   "cell_type": "code",
   "execution_count": null,
   "metadata": {
    "hidden": true
   },
   "outputs": [],
   "source": [
    "#--- [(3, 1, -2/3), (3, 2, 1/3), (8, 1, 0), (1, 2, 1), (8, 2, 1)] --- \n",
    "#rk = [ 0.54145428  0.94652702  0.94651862  0.94652702  0.94652702]\n",
    "#mk = [  1.98310476e+08   5.00000000e+02   5.00133696e+02   5.00000000e+02 5.00000000e+02]\n",
    "#mGUTmax = 6.034e+15 (<- 1.0e+15)\n",
    "\n",
    "mBPR = 500.\n",
    "mF = 0.43e8\n",
    "\n",
    "#\n",
    "threshs, cRGE = precalcRGE(thresholds=[\n",
    "    (mBPR, ComplexScalar(1,1,2)), \n",
    "    (mBPR, RealScalar(1,3,0)),\n",
    "    (mBPR, Weyl(1,2,1, ng)), \n",
    "    (mBPR, Weyl(1,2,-1, ng)),\n",
    "    #\n",
    "    (mF, Weyl(3,1,-Rational(2,3), ng)), \n",
    "    (mF, Weyl(3,1, Rational(2,3), ng)),\n",
    "    (mBPR, ComplexScalar(3,2, Rational(1,3))),\n",
    "    (mBPR, RealScalar(8,1,0)),\n",
    "    (mBPR, ComplexScalar(1,2,1)),\n",
    "    #(mS, ComplexScalar(6,1,-Rational(2,3))),\n",
    "    (mBPR, ComplexScalar(8,2,1))\n",
    "])\n",
    "\n",
    "def func(y, t, twoloop=False):\n",
    "    \"\"\"Derivative of inverse alpha.\n",
    "    d inv_alpha/dt = c0 + c1/inv_alpha\n",
    "    \"\"\"\n",
    "    c0, c1 = cRGE[np.searchsorted(threshs, t)-1]\n",
    "    if twoloop:\n",
    "        return c0 + c1.dot(1/y)\n",
    "    else:\n",
    "        return c0\n",
    "\n",
    "mu_max = 1e20  # we integrate up to this scale in GeV\n",
    "npts = 1000     # number of integration points\n",
    "ts = np.linspace(0, t(mu_max), npts)\n",
    "\n",
    "twoloop = True\n",
    "ys = odeint(func, y0, ts, args=(twoloop,))\n",
    "\n",
    "meet(ts, ys)"
   ]
  },
  {
   "cell_type": "code",
   "execution_count": null,
   "metadata": {
    "hidden": true
   },
   "outputs": [],
   "source": [
    "\n",
    "#--- [(3, 1, -4/3), (3, 2, 1/3), (8, 1, 0), (6, 1, -2/3), (8, 2, 1)] --- \n",
    "#rk = [ 0.86956013  0.94663829  0.94663829  0.94654592  0.94663829]\n",
    "#mk = [ 5840.67522989   500.           500.           501.4750291    500.        ]\n",
    "#mGUTmax = 6.448e+15 (<- 1.0e+15)\n",
    "\n",
    "\n",
    "mBPR = 500.\n",
    "mS = 2400.\n",
    "\n",
    "#\n",
    "threshs, cRGE = precalcRGE(thresholds=[\n",
    "    (mBPR, ComplexScalar(1,1,2)), \n",
    "    (mBPR, RealScalar(1,3,0)),\n",
    "    (mBPR, Weyl(1,2,1, ng)), \n",
    "    (mBPR, Weyl(1,2,-1, ng)),\n",
    "    #\n",
    "    #(mF, Weyl(3,1,-Rational(2,3), ng)), \n",
    "    #(mF, Weyl(3,1, Rational(2,3), ng)),\n",
    "    (mS, ComplexScalar(3,1,-Rational(4,3))),\n",
    "    (mBPR, ComplexScalar(3,2, Rational(1,3))),\n",
    "    (mBPR, RealScalar(8,1,0)),\n",
    "    #(mBPR, ComplexScalar(1,2,1)),\n",
    "    (mBPR, ComplexScalar(6,1,-Rational(2,3))),\n",
    "    (mBPR, ComplexScalar(8,2,1))\n",
    "])\n",
    "\n",
    "def func(y, t, twoloop=False):\n",
    "    \"\"\"Derivative of inverse alpha.\n",
    "    d inv_alpha/dt = c0 + c1/inv_alpha\n",
    "    \"\"\"\n",
    "    c0, c1 = cRGE[np.searchsorted(threshs, t)-1]\n",
    "    if twoloop:\n",
    "        return c0 + c1.dot(1/y)\n",
    "    else:\n",
    "        return c0\n",
    "\n",
    "mu_max = 1e20  # we integrate up to this scale in GeV\n",
    "npts = 1000     # number of integration points\n",
    "ts = np.linspace(0, t(mu_max), npts)\n",
    "\n",
    "twoloop = False\n",
    "ys = odeint(func, y0, ts, args=(twoloop,))\n",
    "\n",
    "meet(ts, ys)"
   ]
  },
  {
   "cell_type": "code",
   "execution_count": null,
   "metadata": {
    "hidden": true
   },
   "outputs": [],
   "source": [
    "\n",
    "#--- [(3, 1, -4/3), (3, 2, 1/3), (8, 1, 0), (6, 1, -2/3), (8, 2, 1)] --- \n",
    "#rk = [ 0.86956013  0.94663829  0.94663829  0.94654592  0.94663829]\n",
    "#mk = [ 5840.67522989   500.           500.           501.4750291    500.        ]\n",
    "#mGUTmax = 6.448e+15 (<- 1.0e+15)\n",
    "\n",
    "\n",
    "mBPR = 500.\n",
    "mS = 2000.\n",
    "\n",
    "#\n",
    "threshs, cRGE = precalcRGE(thresholds=[\n",
    "    (mBPR, ComplexScalar(1,1,2)), \n",
    "    (mBPR, RealScalar(1,3,0)),\n",
    "    (mBPR, Weyl(1,2,1, ng)), \n",
    "    (mBPR, Weyl(1,2,-1, ng)),\n",
    "    #\n",
    "    #(mF, Weyl(3,1,-Rational(2,3), ng)), \n",
    "    #(mF, Weyl(3,1, Rational(2,3), ng)),\n",
    "    (mS, ComplexScalar(3,1,-Rational(4,3))),\n",
    "    (mBPR, ComplexScalar(3,2, Rational(1,3))),\n",
    "    (mBPR, RealScalar(8,1,0)),\n",
    "    #(mBPR, ComplexScalar(1,2,1)),\n",
    "    (mBPR, ComplexScalar(6,1,-Rational(2,3))),\n",
    "    (mBPR, ComplexScalar(8,2,1))\n",
    "])\n",
    "\n",
    "def func(y, t, twoloop=False):\n",
    "    \"\"\"Derivative of inverse alpha.\n",
    "    d inv_alpha/dt = c0 + c1/inv_alpha\n",
    "    \"\"\"\n",
    "    c0, c1 = cRGE[np.searchsorted(threshs, t)-1]\n",
    "    if twoloop:\n",
    "        return c0 + c1.dot(1/y)\n",
    "    else:\n",
    "        return c0\n",
    "\n",
    "mu_max = 1e20  # we integrate up to this scale in GeV\n",
    "npts = 1000     # number of integration points\n",
    "ts = np.linspace(0, t(mu_max), npts)\n",
    "\n",
    "twoloop = True\n",
    "ys = odeint(func, y0, ts, args=(twoloop,))\n",
    "\n",
    "meet(ts, ys)"
   ]
  },
  {
   "cell_type": "code",
   "execution_count": null,
   "metadata": {
    "hidden": true
   },
   "outputs": [],
   "source": [
    "rgefig(ts, ys, xlim=(15,17), ylim=(20,30))"
   ]
  }
 ],
 "metadata": {
  "kernelspec": {
   "display_name": "Python 3",
   "language": "python",
   "name": "python3"
  },
  "language_info": {
   "codemirror_mode": {
    "name": "ipython",
    "version": 3
   },
   "file_extension": ".py",
   "mimetype": "text/x-python",
   "name": "python",
   "nbconvert_exporter": "python",
   "pygments_lexer": "ipython3",
   "version": "3.6.3"
  },
  "toc": {
   "toc_cell": false,
   "toc_number_sections": true,
   "toc_threshold": 6,
   "toc_window_display": false
  }
 },
 "nbformat": 4,
 "nbformat_minor": 2
}